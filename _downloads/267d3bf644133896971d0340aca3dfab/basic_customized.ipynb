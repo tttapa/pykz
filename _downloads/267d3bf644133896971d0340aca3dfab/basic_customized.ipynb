{
  "cells": [
    {
      "cell_type": "markdown",
      "metadata": {},
      "source": [
        "\n# Basic customization\n\nYou can use keyword arguments to add options to your plots.\nThese options generate ``pgfkeys`` options in the final output.\nTherefore, any string that can be interpreted by ``pdflatex`` is a\nvalid value.\n"
      ]
    },
    {
      "cell_type": "code",
      "execution_count": null,
      "metadata": {
        "collapsed": false
      },
      "outputs": [],
      "source": [
        "import numpy as np\nimport pykz\npykz.figure()\n\nx = np.linspace(0, 10, 100)\ny = np.sin(x)\ny2 = np.cos(x)\n\npykz.plot(x, y, color=\"black\", label=\"sine function\")\npykz.plot(x, y2, color=\"blue\", label=\"cosine function\")\n\n# Export your tex code as a standalone file\npykz.save(\"basic_customized.tex\", standalone=True)\n# You could also directly build the pdf\npykz.io.export_pdf_from_file(\"basic_customized.tex\")"
      ]
    },
    {
      "cell_type": "markdown",
      "metadata": {},
      "source": [
        "Alternatively, output it to png\n\n```python\npykz.io.export_png_from_file(\"basic_customized.tex\")\n```\nOr, save the Tikz code to a temporary file, compile it, and open the pdf in the default viewer.\nThis would be the equivalent to ``plt.show()``\n\n```python\npykz.preview()\n```\n"
      ]
    }
  ],
  "metadata": {
    "kernelspec": {
      "display_name": "Python 3",
      "language": "python",
      "name": "python3"
    },
    "language_info": {
      "codemirror_mode": {
        "name": "ipython",
        "version": 3
      },
      "file_extension": ".py",
      "mimetype": "text/x-python",
      "name": "python",
      "nbconvert_exporter": "python",
      "pygments_lexer": "ipython3",
      "version": "3.13.1"
    }
  },
  "nbformat": 4,
  "nbformat_minor": 0
}