{
  "cells": [
    {
      "cell_type": "markdown",
      "metadata": {},
      "source": [
        "\n# Minimal working example\nMinimal working example of `pykz`, plotting a simple sine function.\n"
      ]
    },
    {
      "cell_type": "code",
      "execution_count": null,
      "metadata": {
        "collapsed": false
      },
      "outputs": [],
      "source": [
        "import numpy as np\nimport pykz\n\nx = np.linspace(0, 10, 100)\ny = np.sin(x)\n\npykz.plot(x, y)\n\n# Export your tex code as a standalone file\npykz.save(\"basic_inline.tex\", standalone=True)\n# You could also directly build the pdf\npykz.io.export_pdf_from_file(\"basic_inline.tex\")"
      ]
    },
    {
      "cell_type": "markdown",
      "metadata": {},
      "source": [
        "Alternatively, output it to png\n\n```python\npykz.io.export_png_from_file(\"basic_inline.tex\")\n```\nOr, save the Tikz code to a temporary file, compile it, and open the pdf in the default viewer.\nThis would be the equivalent to ``plt.show()``\n\n```python\npykz.preview()\n```\n"
      ]
    }
  ],
  "metadata": {
    "kernelspec": {
      "display_name": "Python 3",
      "language": "python",
      "name": "python3"
    },
    "language_info": {
      "codemirror_mode": {
        "name": "ipython",
        "version": 3
      },
      "file_extension": ".py",
      "mimetype": "text/x-python",
      "name": "python",
      "nbconvert_exporter": "python",
      "pygments_lexer": "ipython3",
      "version": "3.13.1"
    }
  },
  "nbformat": 4,
  "nbformat_minor": 0
}