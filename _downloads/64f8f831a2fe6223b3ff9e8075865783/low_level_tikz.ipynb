{
  "cells": [
    {
      "cell_type": "markdown",
      "metadata": {},
      "source": [
        "\n# Low-level Tikz commands\n\nUse more low-level features of Tikz for added flexibility.\n"
      ]
    },
    {
      "cell_type": "code",
      "execution_count": null,
      "metadata": {
        "collapsed": false
      },
      "outputs": [],
      "source": [
        "import pykz"
      ]
    },
    {
      "cell_type": "markdown",
      "metadata": {},
      "source": [
        "Make sure to open a new figure, otherwise, you may keep adding to one created in a previous script.\n\n"
      ]
    },
    {
      "cell_type": "code",
      "execution_count": null,
      "metadata": {
        "collapsed": false
      },
      "outputs": [],
      "source": [
        "pykz.figure()"
      ]
    },
    {
      "cell_type": "markdown",
      "metadata": {},
      "source": [
        "You can define your own styles, like one would using ``tikzset``.\nThese styles automatically get added to the tikz code, so you can refer\nto their names in any draw, fill, node, ... command that follows.\n\n"
      ]
    },
    {
      "cell_type": "code",
      "execution_count": null,
      "metadata": {
        "collapsed": false
      },
      "outputs": [],
      "source": [
        "pykz.define_style(\"arrow\", **{\">\": \"stealth\", \"->\": True})\n\npykz.line([(-1, 0), (1, 0)], arrow=True)\npykz.line([(0, -1), (0, 1)], arrow=True)\n\n# Export your tex code as a standalone file\npykz.save(\"low_level_tikz.tex\", standalone=True)\n\n# You could also directly build the pdf\npykz.io.export_pdf_from_file(\"low_level_tikz.tex\")"
      ]
    },
    {
      "cell_type": "markdown",
      "metadata": {},
      "source": [
        "Alternatively, output it to png\n\n```python\npykz.io.export_png_from_file(\"low_level_tikz.tex\")\n```\nOr, save the Tikz code to a temporary file, compile it, and open the pdf in the default viewer.\nThis would be the equivalent to ``plt.show()``\n\n```python\npykz.preview()\n```\n"
      ]
    },
    {
      "cell_type": "markdown",
      "metadata": {},
      "source": [
        "Alternatively, use the high-level functions\n\n"
      ]
    },
    {
      "cell_type": "code",
      "execution_count": null,
      "metadata": {
        "collapsed": false
      },
      "outputs": [],
      "source": [
        "fig = pykz.figure()\nfig.set_option(\">\", \"stealth\")\npykz.arrow([(-1, 0), (1, 0)])\npykz.arrow([(0, -1), (0, 1)])\n\n# Export your tex code as a standalone file\npykz.save(\"low_level_tikz.tex\", standalone=True)\n# You could also directly build the pdf\npykz.io.export_pdf_from_file(\"low_level_tikz.tex\")"
      ]
    },
    {
      "cell_type": "markdown",
      "metadata": {},
      "source": [
        "Alternatively, output it to png\n\n```python\npykz.io.export_png_from_file(\"low_level_tikz.tex\")\n```\nOr, save the Tikz code to a temporary file, compile it, and open the pdf in the default viewer.\nThis would be the equivalent to ``plt.show()``\n\n```python\npykz.preview()\n```\n"
      ]
    }
  ],
  "metadata": {
    "kernelspec": {
      "display_name": "Python 3",
      "language": "python",
      "name": "python3"
    },
    "language_info": {
      "codemirror_mode": {
        "name": "ipython",
        "version": 3
      },
      "file_extension": ".py",
      "mimetype": "text/x-python",
      "name": "python",
      "nbconvert_exporter": "python",
      "pygments_lexer": "ipython3",
      "version": "3.13.1"
    }
  },
  "nbformat": 4,
  "nbformat_minor": 0
}