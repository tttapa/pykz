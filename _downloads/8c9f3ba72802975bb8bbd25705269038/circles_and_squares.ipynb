{
  "cells": [
    {
      "cell_type": "markdown",
      "metadata": {},
      "source": [
        "\n# Directly using Tikz\n\nDirectly use Tikz functionality, without pgfplots.\n"
      ]
    },
    {
      "cell_type": "code",
      "execution_count": null,
      "metadata": {
        "collapsed": false
      },
      "outputs": [],
      "source": [
        "import pykz\npykz.figure()\n\nrect = pykz.rectangle((-1, -1), (1, 1))\ncircle = pykz.circle((2, 0), (1), fill=\"red\")\nrect2 = pykz.rectangle((1, 1), (2, 3), fill=\"cyan\")\n\n# Dump the generated tikz code to the stdout.\nprint(pykz.dumps())\n\n# Export your tex code as a standalone file\npykz.save(\"circles_and_squares.tex\", standalone=True)\n# You could also directly build the pdf\npykz.io.export_pdf_from_file(\"circles_and_squares.tex\")"
      ]
    },
    {
      "cell_type": "markdown",
      "metadata": {},
      "source": [
        "Alternatively, output it to png\n\n```python\npykz.io.export_png_from_file(\"circles_and_squares.tex\")\n```\nOr, save the Tikz code to a temporary file, compile it, and open the pdf in the default viewer.\nThis would be the equivalent to ``plt.show()``\n\n```python\npykz.preview()\n```\n"
      ]
    }
  ],
  "metadata": {
    "kernelspec": {
      "display_name": "Python 3",
      "language": "python",
      "name": "python3"
    },
    "language_info": {
      "codemirror_mode": {
        "name": "ipython",
        "version": 3
      },
      "file_extension": ".py",
      "mimetype": "text/x-python",
      "name": "python",
      "nbconvert_exporter": "python",
      "pygments_lexer": "ipython3",
      "version": "3.13.1"
    }
  },
  "nbformat": 4,
  "nbformat_minor": 0
}